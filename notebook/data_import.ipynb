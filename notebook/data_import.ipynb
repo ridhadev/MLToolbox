{
 "cells": [
  {
   "cell_type": "code",
   "execution_count": 1,
   "metadata": {
    "collapsed": false
   },
   "outputs": [],
   "source": [
    "import os\n",
    "import sys\n",
    "\n",
    "PROJECT_PATH = '/data/pau955/WORK_DIR/Ridha/DEV/PycharmProjects/MLToolbox'\n",
    "DATA_DIR = PROJECT_PATH + '/data/'\n",
    "\n",
    "def add_include_path(path):\n",
    "    if \"PYTHONPATH\" in os.environ:\n",
    "        if path not in set(os.environ[\"PYTHONPATH\"].split(\":\")):\n",
    "            os.environ[\"PYTHONPATH\"] = \":\".join([os.environ[\"PYTHONPATH\"], path])\n",
    "    else:\n",
    "        os.environ[\"PYTHONPATH\"] = path\n",
    "\n",
    "    if path not in sys.path:\n",
    "        sys.path.append(path)\n",
    "        \n",
    "add_include_path(PROJECT_PATH+'/src')"
   ]
  },
  {
   "cell_type": "markdown",
   "metadata": {},
   "source": [
    "## Listing files and excel sheets in directories"
   ]
  },
  {
   "cell_type": "code",
   "execution_count": 2,
   "metadata": {
    "collapsed": false
   },
   "outputs": [
    {
     "name": "stdout",
     "output_type": "stream",
     "text": [
      "['FCW_Excel_Data/NKS/Extraction_FCW_eruptive_well_NKF_2018.xlsx', 'FCW_Excel_Data/Sendji/Extraction_FCW_ESP_Sendji_2018.xlsx', 'FCW_Excel_Data/ALK/MyALK_Extraction_FCW_BHP_2018.xlsx', 'FCW_Excel_Data/ALK/SubDir/MyALK_Extraction_FCW_BHP_2018_bis.xlsx', 'Iris/iris_data.csv']\n",
      "short /data/pau955/WORK_DIR/Ridha/DEV/PycharmProjects/MLToolbox/data/\n"
     ]
    },
    {
     "data": {
      "text/html": [
       "<div>\n",
       "<style scoped>\n",
       "    .dataframe tbody tr th:only-of-type {\n",
       "        vertical-align: middle;\n",
       "    }\n",
       "\n",
       "    .dataframe tbody tr th {\n",
       "        vertical-align: top;\n",
       "    }\n",
       "\n",
       "    .dataframe thead th {\n",
       "        text-align: right;\n",
       "    }\n",
       "</style>\n",
       "<table border=\"1\" class=\"dataframe\">\n",
       "  <thead>\n",
       "    <tr style=\"text-align: right;\">\n",
       "      <th></th>\n",
       "      <th>0</th>\n",
       "      <th>1</th>\n",
       "      <th>2</th>\n",
       "      <th>3</th>\n",
       "      <th>4</th>\n",
       "      <th>5</th>\n",
       "      <th>6</th>\n",
       "      <th>7</th>\n",
       "      <th>8</th>\n",
       "      <th>9</th>\n",
       "      <th>10</th>\n",
       "      <th>11</th>\n",
       "      <th>12</th>\n",
       "    </tr>\n",
       "  </thead>\n",
       "  <tbody>\n",
       "    <tr>\n",
       "      <th>FCW_Excel_Data/NKS/Extraction_FCW_eruptive_well_NKF_2018.xlsx</th>\n",
       "      <td>Tags</td>\n",
       "      <td>NKF101</td>\n",
       "      <td>NKF102</td>\n",
       "      <td>NKF103</td>\n",
       "      <td>NKF106</td>\n",
       "      <td>NKF119</td>\n",
       "      <td>NKF120</td>\n",
       "      <td>NKF214</td>\n",
       "      <td>NKF227</td>\n",
       "      <td>None</td>\n",
       "      <td>None</td>\n",
       "      <td>None</td>\n",
       "      <td>None</td>\n",
       "    </tr>\n",
       "    <tr>\n",
       "      <th>FCW_Excel_Data/Sendji/Extraction_FCW_ESP_Sendji_2018.xlsx</th>\n",
       "      <td>Tags</td>\n",
       "      <td>SEM302</td>\n",
       "      <td>SEM305</td>\n",
       "      <td>SEM307</td>\n",
       "      <td>SEM311</td>\n",
       "      <td>SEM312</td>\n",
       "      <td>None</td>\n",
       "      <td>None</td>\n",
       "      <td>None</td>\n",
       "      <td>None</td>\n",
       "      <td>None</td>\n",
       "      <td>None</td>\n",
       "      <td>None</td>\n",
       "    </tr>\n",
       "    <tr>\n",
       "      <th>Iris/iris_data.csv</th>\n",
       "      <td>iris_data</td>\n",
       "      <td>None</td>\n",
       "      <td>None</td>\n",
       "      <td>None</td>\n",
       "      <td>None</td>\n",
       "      <td>None</td>\n",
       "      <td>None</td>\n",
       "      <td>None</td>\n",
       "      <td>None</td>\n",
       "      <td>None</td>\n",
       "      <td>None</td>\n",
       "      <td>None</td>\n",
       "      <td>None</td>\n",
       "    </tr>\n",
       "    <tr>\n",
       "      <th>FCW_Excel_Data/ALK/SubDir/MyALK_Extraction_FCW_BHP_2018_bis.xlsx</th>\n",
       "      <td>Tags</td>\n",
       "      <td>ALK_040</td>\n",
       "      <td>ALK_041</td>\n",
       "      <td>ALK_042</td>\n",
       "      <td>ALK_043</td>\n",
       "      <td>ALK_044</td>\n",
       "      <td>ALK_047</td>\n",
       "      <td>ALK_048</td>\n",
       "      <td>ALK_410</td>\n",
       "      <td>ALK_411</td>\n",
       "      <td>ALK_412</td>\n",
       "      <td>ALK_416</td>\n",
       "      <td>ALK_417</td>\n",
       "    </tr>\n",
       "    <tr>\n",
       "      <th>FCW_Excel_Data/ALK/MyALK_Extraction_FCW_BHP_2018.xlsx</th>\n",
       "      <td>Tags</td>\n",
       "      <td>ALK_040</td>\n",
       "      <td>ALK_041</td>\n",
       "      <td>ALK_042</td>\n",
       "      <td>ALK_043</td>\n",
       "      <td>ALK_044</td>\n",
       "      <td>ALK_047</td>\n",
       "      <td>ALK_048</td>\n",
       "      <td>ALK_410</td>\n",
       "      <td>ALK_411</td>\n",
       "      <td>ALK_412</td>\n",
       "      <td>ALK_416</td>\n",
       "      <td>ALK_417</td>\n",
       "    </tr>\n",
       "  </tbody>\n",
       "</table>\n",
       "</div>"
      ],
      "text/plain": [
       "                                                           0        1   \\\n",
       "FCW_Excel_Data/NKS/Extraction_FCW_eruptive_well...       Tags   NKF101   \n",
       "FCW_Excel_Data/Sendji/Extraction_FCW_ESP_Sendji...       Tags   SEM302   \n",
       "Iris/iris_data.csv                                  iris_data     None   \n",
       "FCW_Excel_Data/ALK/SubDir/MyALK_Extraction_FCW_...       Tags  ALK_040   \n",
       "FCW_Excel_Data/ALK/MyALK_Extraction_FCW_BHP_201...       Tags  ALK_040   \n",
       "\n",
       "                                                         2        3        4   \\\n",
       "FCW_Excel_Data/NKS/Extraction_FCW_eruptive_well...   NKF102   NKF103   NKF106   \n",
       "FCW_Excel_Data/Sendji/Extraction_FCW_ESP_Sendji...   SEM305   SEM307   SEM311   \n",
       "Iris/iris_data.csv                                     None     None     None   \n",
       "FCW_Excel_Data/ALK/SubDir/MyALK_Extraction_FCW_...  ALK_041  ALK_042  ALK_043   \n",
       "FCW_Excel_Data/ALK/MyALK_Extraction_FCW_BHP_201...  ALK_041  ALK_042  ALK_043   \n",
       "\n",
       "                                                         5        6        7   \\\n",
       "FCW_Excel_Data/NKS/Extraction_FCW_eruptive_well...   NKF119   NKF120   NKF214   \n",
       "FCW_Excel_Data/Sendji/Extraction_FCW_ESP_Sendji...   SEM312     None     None   \n",
       "Iris/iris_data.csv                                     None     None     None   \n",
       "FCW_Excel_Data/ALK/SubDir/MyALK_Extraction_FCW_...  ALK_044  ALK_047  ALK_048   \n",
       "FCW_Excel_Data/ALK/MyALK_Extraction_FCW_BHP_201...  ALK_044  ALK_047  ALK_048   \n",
       "\n",
       "                                                         8        9        10  \\\n",
       "FCW_Excel_Data/NKS/Extraction_FCW_eruptive_well...   NKF227     None     None   \n",
       "FCW_Excel_Data/Sendji/Extraction_FCW_ESP_Sendji...     None     None     None   \n",
       "Iris/iris_data.csv                                     None     None     None   \n",
       "FCW_Excel_Data/ALK/SubDir/MyALK_Extraction_FCW_...  ALK_410  ALK_411  ALK_412   \n",
       "FCW_Excel_Data/ALK/MyALK_Extraction_FCW_BHP_201...  ALK_410  ALK_411  ALK_412   \n",
       "\n",
       "                                                         11       12  \n",
       "FCW_Excel_Data/NKS/Extraction_FCW_eruptive_well...     None     None  \n",
       "FCW_Excel_Data/Sendji/Extraction_FCW_ESP_Sendji...     None     None  \n",
       "Iris/iris_data.csv                                     None     None  \n",
       "FCW_Excel_Data/ALK/SubDir/MyALK_Extraction_FCW_...  ALK_416  ALK_417  \n",
       "FCW_Excel_Data/ALK/MyALK_Extraction_FCW_BHP_201...  ALK_416  ALK_417  "
      ]
     },
     "execution_count": 2,
     "metadata": {},
     "output_type": "execute_result"
    }
   ],
   "source": [
    "from data.excel import DataLoader\n",
    "import pandas as pd\n",
    "\n",
    "loader = DataLoader( DATA_DIR )\n",
    "\n",
    "short_path = True\n",
    "all_files_ = loader.list_files(recursive=True, short_path=True)\n",
    "\n",
    "print(all_files_)\n",
    "\n",
    "if short_path:\n",
    "    print(\"short \" + DATA_DIR)\n",
    "    all_files_ = [loader.get_absolute_path(f) for f in all_files_]\n",
    "\n",
    "\n",
    "file2sheets_ = loader.list_excel_sheets_per_file(all_files_)\n",
    "\n",
    "file2sheets_ = {k[len(DATA_DIR):] : v for k, v in file2sheets_.items()}\n",
    "\n",
    "pd.DataFrame.from_dict(file2sheets_, orient='index')"
   ]
  },
  {
   "cell_type": "markdown",
   "metadata": {},
   "source": [
    "## Listing Excel file sheets"
   ]
  },
  {
   "cell_type": "code",
   "execution_count": 3,
   "metadata": {
    "collapsed": false
   },
   "outputs": [
    {
     "name": "stdout",
     "output_type": "stream",
     "text": [
      "['/data/pau955/WORK_DIR/Ridha/DEV/PycharmProjects/MLToolbox/data/FCW_Excel_Data/ALK/MyALK_Extraction_FCW_BHP_2018.xlsx']\n"
     ]
    },
    {
     "data": {
      "text/plain": [
       "{'/data/pau955/WORK_DIR/Ridha/DEV/PycharmProjects/MLToolbox/data/FCW_Excel_Data/ALK/MyALK_Extraction_FCW_BHP_2018.xlsx': ['Tags',\n",
       "  'ALK_040',\n",
       "  'ALK_041',\n",
       "  'ALK_042',\n",
       "  'ALK_043',\n",
       "  'ALK_044',\n",
       "  'ALK_047',\n",
       "  'ALK_048',\n",
       "  'ALK_410',\n",
       "  'ALK_411',\n",
       "  'ALK_412',\n",
       "  'ALK_416',\n",
       "  'ALK_417']}"
      ]
     },
     "execution_count": 3,
     "metadata": {},
     "output_type": "execute_result"
    }
   ],
   "source": [
    "from data.excel import DataLoader\n",
    "\n",
    "xl_loader = DataLoader( os.path.join(DATA_DIR, \"FCW_Excel_Data\", \"ALK\") )\n",
    "\n",
    "xl_file_ = xl_loader.list_files(files_pattern=\"*.xlsx\", recursive=False)\n",
    "\n",
    "print(xl_file_)\n",
    "\n",
    "xlfile2sheets_ = xl_loader.list_excel_sheets_per_file(xl_file_)\n",
    "xlfile2sheets_"
   ]
  },
  {
   "cell_type": "markdown",
   "metadata": {},
   "source": [
    "### Reading one frame : From CSV, Excel sheet..."
   ]
  },
  {
   "cell_type": "code",
   "execution_count": 7,
   "metadata": {
    "collapsed": false
   },
   "outputs": [
    {
     "data": {
      "text/plain": [
       "{'/data/pau955/WORK_DIR/Ridha/DEV/PycharmProjects/MLToolbox/data/FCW_Excel_Data/ALK/MyALK_Extraction_FCW_BHP_2018.xlsx': ['ALK_040',\n",
       "  'ALK_041',\n",
       "  'ALK_042',\n",
       "  'ALK_043',\n",
       "  'ALK_044',\n",
       "  'ALK_047',\n",
       "  'ALK_048',\n",
       "  'ALK_410',\n",
       "  'ALK_411',\n",
       "  'ALK_412',\n",
       "  'ALK_416',\n",
       "  'ALK_417']}"
      ]
     },
     "execution_count": 7,
     "metadata": {},
     "output_type": "execute_result"
    }
   ],
   "source": [
    "from utils.filters import SimpleTextFilter\n",
    "filtered_sheets = SimpleTextFilter(exclude_filters=['Tags']).filter_dict_values(xlfile2sheets_)\n",
    "filtered_sheets"
   ]
  },
  {
   "cell_type": "code",
   "execution_count": 9,
   "metadata": {
    "collapsed": false
   },
   "outputs": [
    {
     "data": {
      "text/plain": [
       "<data.sampler.DataSampler at 0x2b02c5d19828>"
      ]
     },
     "execution_count": 9,
     "metadata": {},
     "output_type": "execute_result"
    }
   ],
   "source": [
    "from data.sampler import DataSampler\n",
    "\n",
    "DataSampler(sampling_fraction = 0.1)"
   ]
  },
  {
   "cell_type": "code",
   "execution_count": 41,
   "metadata": {
    "collapsed": false
   },
   "outputs": [
    {
     "name": "stdout",
     "output_type": "stream",
     "text": [
      "titi.csv.txt\n",
      "/howto/toto/www/titi_suffix.csv\n"
     ]
    }
   ],
   "source": [
    "import os \n",
    "\n",
    "filename = os.path.basename('../toto/www/titi.csv.txt')\n",
    "\n",
    "prefix = \"_prefix\"\n",
    "\n",
    "print(filename)\n",
    "def get_prefixed_filename(filename, prefix):\n",
    "    if filename.rfind('.') > -1:\n",
    "        print(filename[:filename.rfind('.')] + prefix +filename[filename.rfind('.'):])\n",
    "    else :\n",
    "        print(filename + prefix)\n",
    "        \n",
    "get_prefixed_filename('/howto/toto/www/titi.csv', \"_suffix\")"
   ]
  },
  {
   "cell_type": "code",
   "execution_count": 7,
   "metadata": {
    "collapsed": false
   },
   "outputs": [
    {
     "data": {
      "text/html": [
       "<div>\n",
       "<style>\n",
       "    .dataframe thead tr:only-child th {\n",
       "        text-align: right;\n",
       "    }\n",
       "\n",
       "    .dataframe thead th {\n",
       "        text-align: left;\n",
       "    }\n",
       "\n",
       "    .dataframe tbody tr th {\n",
       "        vertical-align: top;\n",
       "    }\n",
       "</style>\n",
       "<table border=\"1\" class=\"dataframe\">\n",
       "  <thead>\n",
       "    <tr style=\"text-align: right;\">\n",
       "      <th></th>\n",
       "      <th>Date</th>\n",
       "      <th>STATUS</th>\n",
       "      <th>BHP_TARGET_LO</th>\n",
       "      <th>BHP_TARGET_UP</th>\n",
       "      <th>BHP_DAILY</th>\n",
       "      <th>BHP_DAILY_CALC</th>\n",
       "      <th>RUNNING_ESP</th>\n",
       "      <th>FCW_TARGET_UP</th>\n",
       "      <th>FCW_TARGET_LO</th>\n",
       "      <th>MF_TARGET_UP</th>\n",
       "      <th>MF_TARGET_LO</th>\n",
       "      <th>MF_DAILY_CALC</th>\n",
       "      <th>MF_DAILY</th>\n",
       "    </tr>\n",
       "  </thead>\n",
       "  <tbody>\n",
       "    <tr>\n",
       "      <th>0</th>\n",
       "      <td>2016-09-01</td>\n",
       "      <td>No Data</td>\n",
       "      <td>No Data</td>\n",
       "      <td>No Data</td>\n",
       "      <td>563.721</td>\n",
       "      <td>562</td>\n",
       "      <td>1</td>\n",
       "      <td>No Data</td>\n",
       "      <td>No Data</td>\n",
       "      <td>No Data</td>\n",
       "      <td>No Data</td>\n",
       "      <td>45.1751</td>\n",
       "      <td>45.178</td>\n",
       "    </tr>\n",
       "    <tr>\n",
       "      <th>1</th>\n",
       "      <td>2016-09-02</td>\n",
       "      <td>No Data</td>\n",
       "      <td>No Data</td>\n",
       "      <td>No Data</td>\n",
       "      <td>561.228</td>\n",
       "      <td>562.3</td>\n",
       "      <td>1</td>\n",
       "      <td>No Data</td>\n",
       "      <td>No Data</td>\n",
       "      <td>No Data</td>\n",
       "      <td>No Data</td>\n",
       "      <td>45.1719</td>\n",
       "      <td>45.1745</td>\n",
       "    </tr>\n",
       "    <tr>\n",
       "      <th>2</th>\n",
       "      <td>2016-09-03</td>\n",
       "      <td>No Data</td>\n",
       "      <td>No Data</td>\n",
       "      <td>No Data</td>\n",
       "      <td>560.248</td>\n",
       "      <td>562.8</td>\n",
       "      <td>1</td>\n",
       "      <td>No Data</td>\n",
       "      <td>No Data</td>\n",
       "      <td>No Data</td>\n",
       "      <td>No Data</td>\n",
       "      <td>45.1718</td>\n",
       "      <td>45.1732</td>\n",
       "    </tr>\n",
       "    <tr>\n",
       "      <th>3</th>\n",
       "      <td>2016-09-04</td>\n",
       "      <td>No Data</td>\n",
       "      <td>No Data</td>\n",
       "      <td>No Data</td>\n",
       "      <td>564.296</td>\n",
       "      <td>561.8</td>\n",
       "      <td>1</td>\n",
       "      <td>No Data</td>\n",
       "      <td>No Data</td>\n",
       "      <td>No Data</td>\n",
       "      <td>No Data</td>\n",
       "      <td>45.1845</td>\n",
       "      <td>45.1819</td>\n",
       "    </tr>\n",
       "    <tr>\n",
       "      <th>4</th>\n",
       "      <td>2016-09-05</td>\n",
       "      <td>No Data</td>\n",
       "      <td>No Data</td>\n",
       "      <td>No Data</td>\n",
       "      <td>561.768</td>\n",
       "      <td>563.6</td>\n",
       "      <td>1</td>\n",
       "      <td>No Data</td>\n",
       "      <td>No Data</td>\n",
       "      <td>No Data</td>\n",
       "      <td>No Data</td>\n",
       "      <td>45.1765</td>\n",
       "      <td>45.1744</td>\n",
       "    </tr>\n",
       "  </tbody>\n",
       "</table>\n",
       "</div>"
      ],
      "text/plain": [
       "        Date   STATUS BHP_TARGET_LO BHP_TARGET_UP BHP_DAILY BHP_DAILY_CALC  \\\n",
       "0 2016-09-01  No Data       No Data       No Data   563.721            562   \n",
       "1 2016-09-02  No Data       No Data       No Data   561.228          562.3   \n",
       "2 2016-09-03  No Data       No Data       No Data   560.248          562.8   \n",
       "3 2016-09-04  No Data       No Data       No Data   564.296          561.8   \n",
       "4 2016-09-05  No Data       No Data       No Data   561.768          563.6   \n",
       "\n",
       "  RUNNING_ESP FCW_TARGET_UP FCW_TARGET_LO MF_TARGET_UP MF_TARGET_LO  \\\n",
       "0           1       No Data       No Data      No Data      No Data   \n",
       "1           1       No Data       No Data      No Data      No Data   \n",
       "2           1       No Data       No Data      No Data      No Data   \n",
       "3           1       No Data       No Data      No Data      No Data   \n",
       "4           1       No Data       No Data      No Data      No Data   \n",
       "\n",
       "  MF_DAILY_CALC MF_DAILY  \n",
       "0       45.1751   45.178  \n",
       "1       45.1719  45.1745  \n",
       "2       45.1718  45.1732  \n",
       "3       45.1845  45.1819  \n",
       "4       45.1765  45.1744  "
      ]
     },
     "execution_count": 7,
     "metadata": {},
     "output_type": "execute_result"
    }
   ],
   "source": [
    "ONE_DF = FRAMES_DICT[\"ALK_041\"]\n",
    "ONE_DF.head()"
   ]
  },
  {
   "cell_type": "code",
   "execution_count": 8,
   "metadata": {
    "collapsed": false
   },
   "outputs": [
    {
     "data": {
      "text/html": [
       "<div>\n",
       "<style>\n",
       "    .dataframe thead tr:only-child th {\n",
       "        text-align: right;\n",
       "    }\n",
       "\n",
       "    .dataframe thead th {\n",
       "        text-align: left;\n",
       "    }\n",
       "\n",
       "    .dataframe tbody tr th {\n",
       "        vertical-align: top;\n",
       "    }\n",
       "</style>\n",
       "<table border=\"1\" class=\"dataframe\">\n",
       "  <thead>\n",
       "    <tr style=\"text-align: right;\">\n",
       "      <th></th>\n",
       "      <th>Count</th>\n",
       "    </tr>\n",
       "  </thead>\n",
       "  <tbody>\n",
       "    <tr>\n",
       "      <th>#Columns</th>\n",
       "      <td>13</td>\n",
       "    </tr>\n",
       "    <tr>\n",
       "      <th>#Entries</th>\n",
       "      <td>8996</td>\n",
       "    </tr>\n",
       "    <tr>\n",
       "      <th>#Rows</th>\n",
       "      <td>692</td>\n",
       "    </tr>\n",
       "    <tr>\n",
       "      <th>datetime64[ns]</th>\n",
       "      <td>1</td>\n",
       "    </tr>\n",
       "    <tr>\n",
       "      <th>object</th>\n",
       "      <td>12</td>\n",
       "    </tr>\n",
       "  </tbody>\n",
       "</table>\n",
       "</div>"
      ],
      "text/plain": [
       "                Count\n",
       "#Columns           13\n",
       "#Entries         8996\n",
       "#Rows             692\n",
       "datetime64[ns]      1\n",
       "object             12"
      ]
     },
     "execution_count": 8,
     "metadata": {},
     "output_type": "execute_result"
    }
   ],
   "source": [
    "def get_frame_dim_info(frame):\n",
    "    info = {}\n",
    "    #info[\"columns\"] = list(frame.columns)\n",
    "    info[\"#Rows\"], info[\"#Columns\"] = frame.shape\n",
    "    info[\"#Entries\"] = info[\"#Rows\"] * info[\"#Columns\"] \n",
    "    for k, v in frame.get_dtype_counts().items():\n",
    "        info[k] = v\n",
    "    \n",
    "    df = pd.DataFrame.from_dict(info, orient='index').sort_index()\n",
    "    df.columns =['Count']\n",
    "    return df\n",
    "\n",
    "get_frame_dim_info(ONE_DF)"
   ]
  },
  {
   "cell_type": "code",
   "execution_count": 9,
   "metadata": {
    "collapsed": false
   },
   "outputs": [
    {
     "name": "stdout",
     "output_type": "stream",
     "text": [
      "<class 'pandas.core.frame.DataFrame'>\n",
      "RangeIndex: 692 entries, 0 to 691\n",
      "Data columns (total 13 columns):\n",
      "Date              692 non-null datetime64[ns]\n",
      "STATUS            692 non-null object\n",
      "BHP_TARGET_LO     692 non-null object\n",
      "BHP_TARGET_UP     692 non-null object\n",
      "BHP_DAILY         692 non-null object\n",
      "BHP_DAILY_CALC    692 non-null object\n",
      "RUNNING_ESP       692 non-null object\n",
      "FCW_TARGET_UP     692 non-null object\n",
      "FCW_TARGET_LO     692 non-null object\n",
      "MF_TARGET_UP      692 non-null object\n",
      "MF_TARGET_LO      692 non-null object\n",
      "MF_DAILY_CALC     692 non-null object\n",
      "MF_DAILY          692 non-null object\n",
      "dtypes: datetime64[ns](1), object(12)\n",
      "memory usage: 70.4+ KB\n"
     ]
    },
    {
     "data": {
      "text/plain": [
       "NoneType"
      ]
     },
     "execution_count": 9,
     "metadata": {},
     "output_type": "execute_result"
    }
   ],
   "source": [
    "info_series = ONE_DF.info()\n",
    "type(info_series)"
   ]
  },
  {
   "cell_type": "code",
   "execution_count": 10,
   "metadata": {
    "collapsed": false
   },
   "outputs": [
    {
     "ename": "NameError",
     "evalue": "name 'Cgen' is not defined",
     "traceback": [
      "\u001b[0;31m---------------------------------------------------------------------------\u001b[0m",
      "\u001b[0;31mNameError\u001b[0m                                 Traceback (most recent call last)",
      "\u001b[0;32m<ipython-input-10-157b91d40223>\u001b[0m in \u001b[0;36m<module>\u001b[0;34m()\u001b[0m\n\u001b[1;32m      8\u001b[0m         \u001b[0;32myield\u001b[0m \u001b[0mc\u001b[0m\u001b[0;34m\u001b[0m\u001b[0m\n\u001b[1;32m      9\u001b[0m \u001b[0;34m\u001b[0m\u001b[0m\n\u001b[0;32m---> 10\u001b[0;31m \u001b[0;32mdel\u001b[0m \u001b[0mCgen\u001b[0m\u001b[0;34m\u001b[0m\u001b[0m\n\u001b[0m",
      "\u001b[0;31mNameError\u001b[0m: name 'Cgen' is not defined"
     ],
     "output_type": "error"
    }
   ],
   "source": [
    "def columns_gen(frame_or_itr):\n",
    "    if type(frame_or_itr) == pd.DataFrame:\n",
    "        for c in frame_or_itr.columns:\n",
    "            yield c\n",
    "        return\n",
    "    \n",
    "    for c in frame_or_itr:\n",
    "        yield c\n",
    "\n",
    "del Cgen"
   ]
  },
  {
   "cell_type": "code",
   "execution_count": null,
   "metadata": {
    "collapsed": false
   },
   "outputs": [],
   "source": [
    "try:\n",
    "    Cgen\n",
    "except NameError:\n",
    "    Cgen = columns_gen(ONE_DF.columns)\n",
    "\n",
    "try:\n",
    "    col = next(Cgen)\n",
    "    print(col)\n",
    "    print(ONE_DF[col].dtype)\n",
    "    \n",
    "except Exception:\n",
    "    print(\"End of list\")\n",
    "    del Cgen"
   ]
  },
  {
   "cell_type": "code",
   "execution_count": null,
   "metadata": {
    "collapsed": false
   },
   "outputs": [],
   "source": [
    "pd.__version__"
   ]
  },
  {
   "cell_type": "code",
   "execution_count": 27,
   "metadata": {
    "collapsed": false
   },
   "outputs": [
    {
     "data": {
      "text/plain": [
       "{'Mixed types': 'mixed-integer',\n",
       " 'Type': dtype('O'),\n",
       " 'max': nan,\n",
       " 'min': nan,\n",
       " 'nb_distinct': 624,\n",
       " 'nb_null': 0,\n",
       " 'pct_null': 0.0,\n",
       " 'pct_num': 0.99277456647398843}"
      ]
     },
     "execution_count": 27,
     "metadata": {},
     "output_type": "execute_result"
    }
   ],
   "source": [
    "\n",
    "import numpy as np\n",
    "#############################\n",
    "col = \"BHP_TARGET_LO\"\n",
    "\n",
    "\n",
    "def get_column_info(serie):\n",
    "\n",
    "    info_columns = [\n",
    "        \"Type\", # Feature data type,\n",
    "        \"Mixed types\", \n",
    "        \"nb_null\", \"pct_null\", # Nb or pct of null value\n",
    "        \"nb_distinct\", # Nb of distinct values\n",
    "        \"min\", \"max\", # Min/max values for numerical and data datatypes\n",
    "        \"pct_num\" # Nb or pct of numerical values to show mixed text/num columns\n",
    "    ]\n",
    "\n",
    "\n",
    "\n",
    "    dt = serie.dtype\n",
    "\n",
    "    infer_type = pandas.api.types.infer_dtype(serie) #, skipna=True\n",
    "\n",
    "    max_val = min_val = np.nan\n",
    "\n",
    "    pct_num = 0.\n",
    "\n",
    "    if infer_type.startswith('mixed') and serie.dtype == object:\n",
    "        nb_non_null = serie.dropna().count()\n",
    "\n",
    "        if nb_non_null > 0:\n",
    "            nb_num = pd.to_numeric(serie.dropna(), errors='coerce').dropna().count()\n",
    "            pct_num = nb_num/nb_non_null\n",
    "\n",
    "        pass\n",
    "\n",
    "    elif pandas.api.types.is_numeric_dtype(serie.dtype) or pandas.api.types.is_datetime64_dtype(serie.dtype):\n",
    "        min_val = serie.min()\n",
    "        max_val = serie.max()\n",
    "        pct_num = 1.\n",
    "\n",
    "    nb_distinct = len( set(serie.values ))\n",
    "    nb_null = serie.isnull().sum()\n",
    "    pct_null = nb_null/serie.shape[0]\n",
    "\n",
    "    return dict(zip(info_columns, [dt, infer_type, nb_null, pct_null, nb_distinct, min_val, max_val, pct_num]))\n",
    "\n",
    "get_column_info(ONE_DF[\"BHP_DAILY\"])"
   ]
  },
  {
   "cell_type": "code",
   "execution_count": 29,
   "metadata": {
    "collapsed": false
   },
   "outputs": [
    {
     "data": {
      "text/plain": [
       "array([563.7205200195312, 561.2277221679688, 560.2479858398438,\n",
       "       564.2958984375, 561.7684936523438, 561.0234985351562,\n",
       "       562.0383911132812, 559.9725952148438, 558.2017822265625,\n",
       "       553.1865234375, 549.2216796875, 547.1475219726562,\n",
       "       548.0325927734375, 544.2691650390625, 546.2412109375,\n",
       "       925.2826538085938, 621.9711303710938, 603.6953125,\n",
       "       594.8787231445312, 594.1358642578125, 591.3113403320312,\n",
       "       590.8417358398438, 591.68408203125, 591.7385864257812,\n",
       "       590.97607421875, 589.0548095703125, 587.6280517578125,\n",
       "       588.9769897460938, 588.6441040039062, 594.8984375,\n",
       "       588.2761840820312, 588.8980712890625, 589.000732421875,\n",
       "       586.6201171875, 584.9270629882812, 'Configure', 583.2918090820312,\n",
       "       583.7000122070312, 583.4883422851562, 587.3165893554688,\n",
       "       586.8561401367188, 623.8478393554688, 601.5357666015625,\n",
       "       595.6262817382812, 592.0552978515625, 595.6486206054688,\n",
       "       593.1939697265625, 589.502685546875, 591.4570922851562,\n",
       "       589.423095703125, 590.1494750976562, 571.3513793945312,\n",
       "       882.4659423828125, 984.7158203125, 627.2242431640625,\n",
       "       888.6820678710938, 950.6137084960938, 942.1650390625,\n",
       "       937.4290771484375, 934.2620849609375, 931.9562377929688,\n",
       "       931.1914672851562, 929.4034423828125, 927.9474487304688,\n",
       "       927.2227172851562, 926.4150390625, 925.8204956054688,\n",
       "       925.004638671875, 924.821533203125, 924.2162475585938,\n",
       "       924.1647338867188, 923.6243286132812, 961.5880126953125,\n",
       "       964.2713623046875, 962.19580078125, 963.1704711914062,\n",
       "       964.2395629882812, 963.8217163085938, 964.9283447265625,\n",
       "       964.8179321289062, 964.07958984375, 965.6884155273438,\n",
       "       965.2852172851562, 966.1136474609375, 952.3192138671875,\n",
       "       949.4818725585938, 948.5830688476562, 947.8314819335938,\n",
       "       947.406494140625, 946.7012939453125, 946.5670776367188,\n",
       "       946.3229370117188, 945.896484375, 946.0789184570312,\n",
       "       945.2554321289062, 945.0179443359375, 945.4912109375,\n",
       "       1028.42724609375, 1082.4000244140625, 986.6822509765625,\n",
       "       977.7079467773438, 1034.199951171875, 1089.962158203125,\n",
       "       1104.415771484375, 1110.3331298828125, 1119.7886962890625,\n",
       "       1129.19189453125, 1093.5545654296875, 1135.300048828125,\n",
       "       1143.3729248046875, 1035.1444091796875, 1025.634521484375,\n",
       "       1018.2587890625, 1012.3693237304688, 1007.070068359375,\n",
       "       1002.3876953125, 998.507080078125, 995.4136962890625,\n",
       "       992.36865234375, 990.2222900390625, 988.2415771484375,\n",
       "       986.0812377929688, 984.6155395507812, 991.7166137695312,\n",
       "       985.349365234375, 983.226806640625, 981.468994140625,\n",
       "       980.42919921875, 979.3214721679688, 978.615966796875,\n",
       "       998.7391967773438, 1005.0282592773438, 1010.1025390625,\n",
       "       1013.13525390625, 1015.5214233398438, 1017.2559204101562,\n",
       "       1018.8937377929688, 1079.4000244140625, 1013.9636840820312,\n",
       "       1084.3594970703125, 1139.699951171875, 1154.9000244140625,\n",
       "       1154.9000244140625, 1154.9000244140625, 1154.9000244140625,\n",
       "       1154.9000244140625, 1154.9000244140625, 1154.9000244140625,\n",
       "       1154.9000244140625, 1154.9000244140625, 1154.9000244140625,\n",
       "       1154.9000244140625, 1154.9000244140625, 1154.9000244140625,\n",
       "       1154.9000244140625, 1154.9000244140625, 1154.9000244140625,\n",
       "       1154.9000244140625, 1154.9000244140625, 1154.9000244140625,\n",
       "       1154.9000244140625, 1154.9000244140625, 1154.9000244140625,\n",
       "       1154.9000244140625, 1154.9000244140625, 1154.9000244140625,\n",
       "       1154.9000244140625, 1154.9000244140625, 1154.9000244140625,\n",
       "       1154.9000244140625, 1154.9000244140625, 1154.9000244140625,\n",
       "       1154.9000244140625, 1154.9000244140625, 1154.9000244140625,\n",
       "       1154.9000244140625, 1154.9000244140625, 1154.9000244140625,\n",
       "       1154.9000244140625, 1154.9000244140625, 1154.9000244140625,\n",
       "       1154.9000244140625, 1154.9000244140625, 1154.9000244140625,\n",
       "       1154.9000244140625, 1154.9000244140625, 1154.9000244140625,\n",
       "       1154.9000244140625, 1154.9000244140625, 943.2196655273438,\n",
       "       864.1207275390625, 846.8814086914062, 836.7994995117188,\n",
       "       829.2235717773438, 851.2886962890625, 846.2120971679688,\n",
       "       843.460205078125, 840.1788940429688, 861.9453735351562,\n",
       "       643.276611328125, 605.6533203125, 589.52099609375,\n",
       "       591.5966186523438, 590.21533203125, 1034.0855712890625,\n",
       "       1092.1466064453125, 1122.8427734375, 1264.199951171875,\n",
       "       937.5348510742188, 948.6842651367188, 970.1815795898438,\n",
       "       966.8470458984375, 964.1687622070312, 962.1878662109375,\n",
       "       959.1722412109375, 958.9657592773438, 957.5816650390625,\n",
       "       955.0344848632812, 954.3197631835938, 953.9126586914062,\n",
       "       951.001953125, 950.692138671875, 949.4262084960938, 960.359375,\n",
       "       953.3672485351562, 949.4435424804688, 950.10302734375,\n",
       "       950.2285766601562, 948.5001220703125, 947.8396606445312,\n",
       "       948.4380493164062, 948.5869140625, 947.4490356445312,\n",
       "       945.134033203125, 945.3165283203125, 794.7123413085938,\n",
       "       763.842529296875, 758.3949584960938, 754.6394653320312,\n",
       "       807.9263916015625, 807.1380004882812, 809.2030639648438,\n",
       "       809.7371826171875, 809.4291381835938, 811.7467041015625,\n",
       "       821.5701293945312, 816.06591796875, 815.7000122070312,\n",
       "       816.0206298828125, 1179, 1209.7391357421875, 1228.184326171875,\n",
       "       811.8363647460938, 844.54541015625, 837.68115234375,\n",
       "       832.7682495117188, 830.34521484375, 826.1508178710938,\n",
       "       822.9501342773438, 831.5913696289062, 830.5, 829.2411499023438,\n",
       "       828.3003540039062, 'Configure', 826.8588256835938,\n",
       "       828.0725708007812, 824.7879638671875, 824.4483032226562,\n",
       "       824.1477661132812, 823.460693359375, 1059.7196044921875,\n",
       "       1168.4000244140625, 1193.99462890625, 1211.1053466796875,\n",
       "       1222.7108154296875, 1232.239501953125, 1240.5738525390625,\n",
       "       1247.7799072265625, 1254.459716796875, 877.6343994140625,\n",
       "       901.559814453125, 894.2804565429688, 888.209228515625,\n",
       "       885.4347534179688, 882.0123901367188, 845.841552734375,\n",
       "       857.4725952148438, 'Comm Fail', 1196.300048828125,\n",
       "       888.7672729492188, 881.1066284179688, 876.9188232421875,\n",
       "       873.3419799804688, 872.6631469726562, 877.9308471679688,\n",
       "       873.2074584960938, 869.470703125, 868.8184814453125,\n",
       "       869.420654296875, 866.5294189453125, 864.8078002929688,\n",
       "       864.0629272460938, 863.172607421875, 861.537353515625,\n",
       "       860.7803955078125, 860.3896484375, 859.7500610351562,\n",
       "       859.1536865234375, 1137.422119140625, 875.0079345703125,\n",
       "       868.4486083984375, 862.80322265625, 861.0722045898438,\n",
       "       860.9243774414062, 859.4205322265625, 857.432861328125,\n",
       "       856.2442016601562, 855.3421020507812, 854.9751586914062,\n",
       "       855.6936645507812, 854.8272705078125, 854.1064453125,\n",
       "       854.9324340820312, 853.072509765625, 853.3866577148438,\n",
       "       852.5050048828125, 852.1407470703125, 851.0040283203125,\n",
       "       852.2659912109375, 850.0984497070312, 850.5310668945312,\n",
       "       850.5681762695312, 850.1680908203125, 848.6137084960938,\n",
       "       849.0957641601562, 849.0242309570312, 820.5719604492188,\n",
       "       837.7771606445312, 846.8663330078125, 876.2489013671875,\n",
       "       854.5494995117188, 848.1228637695312, 844.5194091796875,\n",
       "       841.2174682617188, 840.80615234375, 838.8733520507812,\n",
       "       1133.9761962890625, 1180.8660888671875, 952.3421020507812,\n",
       "       868.0999755859375, 854.4616088867188, 847.642578125,\n",
       "       845.5301513671875, 841.7797241210938, 843.9341430664062,\n",
       "       838.7471313476562, 839.06103515625, 836.3499755859375,\n",
       "       835.9724731445312, 835.4130249023438, 834.427001953125,\n",
       "       834.2088012695312, 833.156494140625, 813.3421630859375,\n",
       "       811.8914184570312, 811.6542358398438, 812.6229858398438,\n",
       "       810.9082641601562, 808.9368896484375, 808.76611328125,\n",
       "       807.335205078125, 807.3472290039062, 806.7000122070312,\n",
       "       806.5513916015625, 807.1897583007812, 804.7347412109375,\n",
       "       807.284912109375, 805.745849609375, 805.48095703125,\n",
       "       804.0236206054688, 807.52197265625, 804.9903564453125,\n",
       "       805.3881225585938, 804.773193359375, 805.3635864257812,\n",
       "       803.750732421875, 806.2158203125, 803.43798828125, 804, 804,\n",
       "       803.5385131835938, 803.183349609375, 803.0824584960938,\n",
       "       802.1658935546875, 802.3172607421875, 802.053466796875,\n",
       "       820.8229370117188, 814.5104370117188, 812.5791015625,\n",
       "       806.8360595703125, 809.4114379882812, 808.1055297851562,\n",
       "       808.151611328125, 807.2212524414062, 806.3640747070312,\n",
       "       807.1851196289062, 805.7462158203125, 818.0804443359375,\n",
       "       813.6768188476562, 813.133544921875, 808.0715942382812,\n",
       "       806.5919189453125, 806.7236938476562, 805.4039916992188,\n",
       "       780.9646606445312, 778.19091796875, 777.6705932617188,\n",
       "       777.2777709960938, 776.6150512695312, 776.2311401367188,\n",
       "       1136.605224609375, 1162.199951171875, 848.1480102539062,\n",
       "       793.0040893554688, 784.2925415039062, 781.912353515625,\n",
       "       782.575439453125, 784.0252685546875, 784.794677734375,\n",
       "       785.4386596679688, 779.4434814453125, 781.28857421875,\n",
       "       782.8016967773438, 783.3128051757812, 784.0798950195312,\n",
       "       786.2836303710938, 789.8685302734375, 787.9000854492188,\n",
       "       788.42578125, 788.21826171875, 788.9442138671875, 789.62744140625,\n",
       "       789.6178588867188, 790.6759643554688, 791.4639282226562,\n",
       "       791.8402099609375, 833.0572509765625, 812.895263671875,\n",
       "       810.5885009765625, 815.8130493164062, 816.6433715820312,\n",
       "       817.0751342773438, 816.375, 816.4293823242188, 811.2232666015625,\n",
       "       810.3040771484375, 811.1823120117188, 807.7446899414062,\n",
       "       1161.851318359375, 828.8665771484375, 814.9382934570312,\n",
       "       811.4158935546875, 809.99609375, 809.1805419921875,\n",
       "       809.210205078125, 809.3482666015625, 807.96044921875,\n",
       "       805.6432495117188, 804.6812133789062, 804.1154174804688,\n",
       "       804.2401123046875, 804.5, 804.8535766601562, 804.7286987304688,\n",
       "       806.0894775390625, 806.6751098632812, 805.9829711914062,\n",
       "       806.6751708984375, 807.5362548828125, 806.7440795898438,\n",
       "       820.9039916992188, 815.0508422851562, 813.8225708007812,\n",
       "       812.8331909179688, 811.9573364257812, 811.1527709960938,\n",
       "       812.0552978515625, 811.8220825195312, 811.009521484375,\n",
       "       810.7814331054688, 810.3244018554688, 810.2364501953125,\n",
       "       810.205078125, 809.0780029296875, 810.6472778320312,\n",
       "       809.0452270507812, 809.303955078125, 810.0016479492188,\n",
       "       808.5623779296875, 807.8064575195312, 808.7357788085938,\n",
       "       806.9639892578125, 807.8021240234375, 807.6641235351562,\n",
       "       806.5929565429688, 806.0363159179688, 806.0536499023438,\n",
       "       805.5288696289062, 805.328125, 805.01416015625, 804.9017944335938,\n",
       "       803.2578735351562, 804.0795288085938, 804.4000244140625,\n",
       "       803.49560546875, 802.9024047851562, 802.9281005859375,\n",
       "       802.611572265625, 801.2210083007812, 801.6917724609375,\n",
       "       810.9786376953125, 805.842529296875, 807.0914306640625,\n",
       "       803.831787109375, 802.0771484375, 804.4812622070312, 801.3291015625,\n",
       "       801.4523315429688, 801.1377563476562, 802.686279296875,\n",
       "       800.3775634765625, 800.4963989257812, 799.7218627929688,\n",
       "       801.823486328125, 800.4547729492188, 800, 796.918701171875,\n",
       "       796.6248168945312, 797.6815185546875, 796.9928588867188,\n",
       "       794.8558349609375, 794.6362915039062, 795.2869262695312,\n",
       "       794.1228637695312, 793.4935913085938, 791.48046875,\n",
       "       791.4559936523438, 791.8106079101562, 799.7140502929688,\n",
       "       797.7445068359375, 'Configure', 796.056884765625,\n",
       "       1131.3099365234375, 809.5963745117188, 805.3109130859375,\n",
       "       803.42919921875, 801.9122314453125, 797.1747436523438,\n",
       "       795.8104858398438, 795.998046875, 795.319091796875,\n",
       "       1147.944091796875, 1177.6226806640625, 833.135498046875,\n",
       "       817.135986328125, 810.653564453125, 812.803955078125,\n",
       "       815.2564697265625, 818.091064453125, 809.5647583007812,\n",
       "       807.0506591796875, 805.3901977539062, 804.9953002929688,\n",
       "       804.1013793945312, 803.2189331054688, 802.6691284179688,\n",
       "       802.3239135742188, 801.8890380859375, 801.7684326171875,\n",
       "       801.1839599609375, 799.9822998046875, 799.2921752929688,\n",
       "       799.4088134765625, 798.7991943359375, 799.1035766601562,\n",
       "       792.3238525390625, 791.8208618164062, 790.9373779296875,\n",
       "       790.4151000976562, 789.9031982421875, 789.7677612304688,\n",
       "       789.8585205078125, 789.2540893554688, 789.5985107421875,\n",
       "       790.9994506835938, 791.1163330078125, 791.4192504882812,\n",
       "       794.6936645507812, 794.0004272460938, 791.9861450195312,\n",
       "       792.6239624023438, 789.7532958984375, 789.6494140625,\n",
       "       789.4468994140625, 789.7825317382812, 788.9903564453125,\n",
       "       808.4039916992188, 795.7244873046875, 793.1875610351562,\n",
       "       792.2999877929688, 794.7046508789062, 795.7861328125,\n",
       "       796.7269897460938, 799.2349243164062, 800.9805297851562,\n",
       "       800.4659423828125, 801.0555419921875, 801.2651977539062,\n",
       "       802.7228393554688, 803.1245727539062, 803.6439819335938,\n",
       "       803.8985595703125, 804.0711669921875, 804.4586791992188,\n",
       "       1119.4000244140625, 1119.4000244140625, 1119.4000244140625,\n",
       "       1119.4000244140625, 0, 0, 0, 'Comm Fail', 0, 0, 0, 0, 0, 0, 0, 0, 0,\n",
       "       0, 0, 0, 940.7283935546875, 937.356689453125, 917.2108764648438,\n",
       "       905.9542236328125, 896.5961303710938, 891.371826171875,\n",
       "       887.0841064453125, 885.1103515625, 905.5780029296875,\n",
       "       893.1245727539062, 888.0302124023438, 885.499267578125,\n",
       "       884.7443237304688, 882.4476928710938, 880.234375, 879.9191284179688,\n",
       "       876.6254272460938, 879.5354614257812, 872.9652709960938,\n",
       "       888.8944702148438, 859.8245849609375, 857.1449584960938,\n",
       "       853.7081298828125, 852.1276245117188, 1202.893310546875, 1229,\n",
       "       928.934326171875, 904.7000122070312, 892.8536376953125,\n",
       "       874.2360229492188, 786.0740966796875, 738.6011962890625,\n",
       "       748.9429931640625, 826.1018676757812, 789.7122192382812,\n",
       "       784.7871704101562, 781.7322387695312, 777.7135620117188,\n",
       "       777.4000244140625, 772.88232421875, 765.1179809570312,\n",
       "       872.7597045898438, 904.2615966796875, 895.3517456054688,\n",
       "       890.8146362304688, 887.5079956054688, 886.0335693359375,\n",
       "       884.6100463867188], dtype=object)"
      ]
     },
     "execution_count": 29,
     "metadata": {},
     "output_type": "execute_result"
    }
   ],
   "source": [
    "ONE_DF[\"BHP_DAILY\"].values"
   ]
  },
  {
   "cell_type": "markdown",
   "metadata": {},
   "source": [
    "-------------------------------------------------------------------"
   ]
  },
  {
   "cell_type": "code",
   "execution_count": 12,
   "metadata": {
    "collapsed": false
   },
   "outputs": [
    {
     "data": {
      "text/plain": [
       "['Tags', 'SEM302', 'SEM305', 'SEM307', 'SEM311', 'SEM312']"
      ]
     },
     "execution_count": 12,
     "metadata": {},
     "output_type": "execute_result"
    }
   ],
   "source": [
    "a = pd.ExcelFile(\"/data/pau955/WORK_DIR/Ridha/DEV/PycharmProjects/MLToolbox/data/FCW_Excel_Data/Sendji/Extraction_FCW_ESP_Sendji_2018.xlsx\")\n",
    "a.sheet_names"
   ]
  },
  {
   "cell_type": "code",
   "execution_count": 13,
   "metadata": {
    "collapsed": false
   },
   "outputs": [
    {
     "name": "stdout",
     "output_type": "stream",
     "text": [
      "/data/pau955/WORK_DIR/Ridha/DEV/PycharmProjects/MLToolbox/data/FCW_Excel_Data/NKS/Extraction_FCW_eruptive_well_NKF_2018.xlsx\n",
      "/data/pau955/WORK_DIR/Ridha/DEV/PycharmProjects/MLToolbox/data/FCW_Excel_Data/Sendji/Extraction_FCW_ESP_Sendji_2018.xlsx\n",
      "/data/pau955/WORK_DIR/Ridha/DEV/PycharmProjects/MLToolbox/data/FCW_Excel_Data/ALK/MyALK_Extraction_FCW_BHP_2018.xlsx\n"
     ]
    },
    {
     "data": {
      "text/plain": [
       "{'/data/pau955/WORK_DIR/Ridha/DEV/PycharmProjects/MLToolbox/data/FCW_Excel_Data/ALK/MyALK_Extraction_FCW_BHP_2018.xlsx': ['Tags',\n",
       "  'ALK_040',\n",
       "  'ALK_041',\n",
       "  'ALK_042',\n",
       "  'ALK_043',\n",
       "  'ALK_044',\n",
       "  'ALK_047',\n",
       "  'ALK_048',\n",
       "  'ALK_410',\n",
       "  'ALK_411',\n",
       "  'ALK_412',\n",
       "  'ALK_416',\n",
       "  'ALK_417'],\n",
       " '/data/pau955/WORK_DIR/Ridha/DEV/PycharmProjects/MLToolbox/data/FCW_Excel_Data/NKS/Extraction_FCW_eruptive_well_NKF_2018.xlsx': ['Tags',\n",
       "  'NKF101',\n",
       "  'NKF102',\n",
       "  'NKF103',\n",
       "  'NKF106',\n",
       "  'NKF119',\n",
       "  'NKF120',\n",
       "  'NKF214',\n",
       "  'NKF227'],\n",
       " '/data/pau955/WORK_DIR/Ridha/DEV/PycharmProjects/MLToolbox/data/FCW_Excel_Data/Sendji/Extraction_FCW_ESP_Sendji_2018.xlsx': ['Tags',\n",
       "  'SEM302',\n",
       "  'SEM305',\n",
       "  'SEM307',\n",
       "  'SEM311',\n",
       "  'SEM312']}"
      ]
     },
     "execution_count": 13,
     "metadata": {},
     "output_type": "execute_result"
    }
   ],
   "source": [
    "files = list_files_recursively(INPUT_DIR, file_pattern=\"*.xlsx\", short_path=False)\n",
    "list_excel_sheets_per_file(files)"
   ]
  },
  {
   "cell_type": "code",
   "execution_count": null,
   "metadata": {
    "collapsed": true
   },
   "outputs": [],
   "source": []
  }
 ],
 "metadata": {
  "anaconda-cloud": {},
  "kernelspec": {
   "display_name": "Python [conda env:ridha]",
   "language": "python",
   "name": "conda-env-ridha-py"
  },
  "language_info": {
   "codemirror_mode": {
    "name": "ipython",
    "version": 3
   },
   "file_extension": ".py",
   "mimetype": "text/x-python",
   "name": "python",
   "nbconvert_exporter": "python",
   "pygments_lexer": "ipython3",
   "version": "3.5.4"
  }
 },
 "nbformat": 4,
 "nbformat_minor": 0
}
